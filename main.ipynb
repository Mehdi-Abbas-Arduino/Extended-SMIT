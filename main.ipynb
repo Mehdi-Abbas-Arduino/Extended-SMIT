{
 "cells": [
  {
   "cell_type": "code",
   "execution_count": 2,
   "metadata": {},
   "outputs": [],
   "source": [
    "dic = {}"
   ]
  },
  {
   "cell_type": "code",
   "execution_count": 3,
   "metadata": {},
   "outputs": [],
   "source": [
    "for a in range(2):\n",
    "    dic['Task' + str(a+1)] = input(\"Enter task\")"
   ]
  },
  {
   "cell_type": "code",
   "execution_count": 4,
   "metadata": {},
   "outputs": [
    {
     "name": "stdout",
     "output_type": "stream",
     "text": [
      "{'Task1': 'Read ', 'Task2': 'write'}\n"
     ]
    }
   ],
   "source": [
    "print(dic)"
   ]
  },
  {
   "cell_type": "code",
   "execution_count": 5,
   "metadata": {},
   "outputs": [],
   "source": [
    "# Advance dictionaries"
   ]
  },
  {
   "cell_type": "code",
   "execution_count": 6,
   "metadata": {},
   "outputs": [],
   "source": [
    "list_of_dict = [\n",
    "   {'first name': 'David',\n",
    " 'Last name ': 'Elliot',\n",
    " 'address': 'Wall Street',\n",
    " 'age': 17,\n",
    " 'Phone Number': '+923328829273',\n",
    " 'City': 'LA'} ,\n",
    " {'first name': 'Hassan',\n",
    " 'Last name ': 'Khan',\n",
    " 'address': 'Wall Street',\n",
    " 'age': 17,\n",
    " 'Phone Number': '+923328829273',\n",
    " 'City': 'LA'},\n",
    " {'first name': 'Juice',\n",
    " 'Last name ': 'WRLD',\n",
    " 'address': 'Burns road',\n",
    " 'age': 17,\n",
    " 'Phone Number': '+923328829273',\n",
    " 'City': 'LA'}\n",
    "]"
   ]
  },
  {
   "cell_type": "code",
   "execution_count": 7,
   "metadata": {},
   "outputs": [],
   "source": [
    "personal_bio = {\"First_name\":\"Qasim\",\n",
    "                \"Last name\" :\"Hassan\",\n",
    "                \"address\":\"karachi,Pakistan\"}"
   ]
  },
  {
   "cell_type": "code",
   "execution_count": 8,
   "metadata": {},
   "outputs": [
    {
     "data": {
      "text/plain": [
       "dict_keys(['First_name', 'Last name', 'address'])"
      ]
     },
     "execution_count": 8,
     "metadata": {},
     "output_type": "execute_result"
    }
   ],
   "source": [
    "personal_bio.keys()"
   ]
  },
  {
   "cell_type": "code",
   "execution_count": 9,
   "metadata": {},
   "outputs": [
    {
     "data": {
      "text/plain": [
       "dict_values(['Qasim', 'Hassan', 'karachi,Pakistan'])"
      ]
     },
     "execution_count": 9,
     "metadata": {},
     "output_type": "execute_result"
    }
   ],
   "source": [
    "personal_bio.values()"
   ]
  },
  {
   "cell_type": "code",
   "execution_count": 15,
   "metadata": {},
   "outputs": [
    {
     "name": "stdout",
     "output_type": "stream",
     "text": [
      "Keys is First_name and value is Qasim\n",
      "Keys is Last name and value is Hassan\n",
      "Keys is address and value is karachi,Pakistan\n"
     ]
    }
   ],
   "source": [
    "for key,value in personal_bio.items():\n",
    "    print(f\"Keys is {key} and value is {value}\")"
   ]
  },
  {
   "cell_type": "code",
   "execution_count": 20,
   "metadata": {},
   "outputs": [
    {
     "data": {
      "text/plain": [
       "('First_name', 'Qasim')"
      ]
     },
     "execution_count": 20,
     "metadata": {},
     "output_type": "execute_result"
    }
   ],
   "source": [
    "list(personal_bio.items())[0] # dict_items is uhashable "
   ]
  },
  {
   "cell_type": "code",
   "execution_count": 23,
   "metadata": {},
   "outputs": [],
   "source": [
    "bio_list = [personal_bio]"
   ]
  },
  {
   "cell_type": "code",
   "execution_count": 24,
   "metadata": {},
   "outputs": [
    {
     "data": {
      "text/plain": [
       "[{'First_name': 'Qasim', 'Last name': 'Hassan', 'address': 'karachi,Pakistan'}]"
      ]
     },
     "execution_count": 24,
     "metadata": {},
     "output_type": "execute_result"
    }
   ],
   "source": [
    "bio_list"
   ]
  },
  {
   "cell_type": "code",
   "execution_count": 30,
   "metadata": {},
   "outputs": [
    {
     "name": "stdout",
     "output_type": "stream",
     "text": [
      "Wall Street\n",
      "Wall Street\n",
      "Burns road\n",
      "karachi,Pakistan\n"
     ]
    }
   ],
   "source": [
    "for a in range(len(list_of_dict)):\n",
    "    print(list_of_dict[a]['address'])"
   ]
  },
  {
   "cell_type": "code",
   "execution_count": 28,
   "metadata": {},
   "outputs": [],
   "source": [
    "list_of_dict.append(personal_bio)"
   ]
  },
  {
   "cell_type": "code",
   "execution_count": 29,
   "metadata": {},
   "outputs": [
    {
     "data": {
      "text/plain": [
       "[{'first name': 'David',\n",
       "  'Last name ': 'Elliot',\n",
       "  'address': 'Wall Street',\n",
       "  'age': 17,\n",
       "  'Phone Number': '+923328829273',\n",
       "  'City': 'LA'},\n",
       " {'first name': 'Hassan',\n",
       "  'Last name ': 'Khan',\n",
       "  'address': 'Wall Street',\n",
       "  'age': 17,\n",
       "  'Phone Number': '+923328829273',\n",
       "  'City': 'LA'},\n",
       " {'first name': 'Juice',\n",
       "  'Last name ': 'WRLD',\n",
       "  'address': 'Burns road',\n",
       "  'age': 17,\n",
       "  'Phone Number': '+923328829273',\n",
       "  'City': 'LA'},\n",
       " {'First_name': 'Qasim', 'Last name': 'Hassan', 'address': 'karachi,Pakistan'}]"
      ]
     },
     "execution_count": 29,
     "metadata": {},
     "output_type": "execute_result"
    }
   ],
   "source": [
    "list_of_dict"
   ]
  },
  {
   "cell_type": "code",
   "execution_count": 31,
   "metadata": {},
   "outputs": [
    {
     "data": {
      "text/plain": [
       "[{'first name': 'David',\n",
       "  'Last name ': 'Elliot',\n",
       "  'address': 'Wall Street',\n",
       "  'age': 17,\n",
       "  'Phone Number': '+923328829273',\n",
       "  'City': 'LA'},\n",
       " {'first name': 'Hassan',\n",
       "  'Last name ': 'Khan',\n",
       "  'address': 'Wall Street',\n",
       "  'age': 17,\n",
       "  'Phone Number': '+923328829273',\n",
       "  'City': 'LA'},\n",
       " {'first name': 'Juice',\n",
       "  'Last name ': 'WRLD',\n",
       "  'address': 'Burns road',\n",
       "  'age': 17,\n",
       "  'Phone Number': '+923328829273',\n",
       "  'City': 'LA'},\n",
       " {'First_name': 'Qasim', 'Last name': 'Hassan', 'address': 'karachi,Pakistan'}]"
      ]
     },
     "execution_count": 31,
     "metadata": {},
     "output_type": "execute_result"
    }
   ],
   "source": [
    "list_of_dict"
   ]
  },
  {
   "cell_type": "code",
   "execution_count": 55,
   "metadata": {},
   "outputs": [
    {
     "data": {
      "text/plain": [
       "{2: {'first name': 'Juice',\n",
       "  'Last name ': 'WRLD',\n",
       "  'address': 'Burns road',\n",
       "  'age': 17,\n",
       "  'Phone Number': '+923328829273',\n",
       "  'City': 'LA'}}"
      ]
     },
     "execution_count": 55,
     "metadata": {},
     "output_type": "execute_result"
    }
   ],
   "source": [
    "list_of_dict = {0:{'first name': 'David',\n",
    " 'Last name ': 'Elliot',\n",
    " 'address': 'Wall Street',\n",
    " 'age': 17,\n",
    " 'Phone Number': '+923328829273',\n",
    " 'City': 'LA'}} ,\n",
    "{1:{'first name': 'Hassan',\n",
    " 'Last name ': 'Khan',\n",
    " 'address': 'Wall Street',\n",
    " 'age': 17,\n",
    " 'Phone Number': '+923328829273',\n",
    " 'City': 'LA'}},\n",
    "{2:{'first name': 'Juice',\n",
    " 'Last name ': 'WRLD',\n",
    " 'address': 'Burns road',\n",
    " 'age': 17,\n",
    " 'Phone Number': '+923328829273',\n",
    " 'City': 'LA'}\n",
    "}\n"
   ]
  },
  {
   "cell_type": "code",
   "execution_count": 56,
   "metadata": {},
   "outputs": [
    {
     "name": "stdout",
     "output_type": "stream",
     "text": [
      "Wall Street\n"
     ]
    }
   ],
   "source": [
    "for i in range(len(list_of_dict)):\n",
    "    print(list_of_dict[i][i]['address'])"
   ]
  },
  {
   "cell_type": "code",
   "execution_count": 57,
   "metadata": {},
   "outputs": [
    {
     "data": {
      "text/plain": [
       "({0: {'first name': 'David',\n",
       "   'Last name ': 'Elliot',\n",
       "   'address': 'Wall Street',\n",
       "   'age': 17,\n",
       "   'Phone Number': '+923328829273',\n",
       "   'City': 'LA'}},)"
      ]
     },
     "execution_count": 57,
     "metadata": {},
     "output_type": "execute_result"
    }
   ],
   "source": [
    "list_of_dict"
   ]
  },
  {
   "cell_type": "code",
   "execution_count": 58,
   "metadata": {},
   "outputs": [],
   "source": [
    "saylani = {\"python\":{\n",
    "    \"timings\" : \"10 to 12\",\n",
    "    \"Instructor\" : \"Ayan\"\n",
    "\n",
    "},\n",
    "\"Data Engineering\":{\n",
    "    \"Timings\" : \"TTS\",\n",
    "    \"Instructor\" : \"Dawood\"\n",
    "}}"
   ]
  },
  {
   "cell_type": "code",
   "execution_count": 63,
   "metadata": {},
   "outputs": [
    {
     "name": "stdout",
     "output_type": "stream",
     "text": [
      "Instructor for 'python' course: Ayan\n",
      "Instructor for 'Data Engineering' course: Dawood\n"
     ]
    }
   ],
   "source": [
    "for course in saylani.keys():\n",
    "    print(f\"Instructor for '{course}' course: {saylani[course]['Instructor']}\")"
   ]
  },
  {
   "cell_type": "code",
   "execution_count": 72,
   "metadata": {},
   "outputs": [
    {
     "name": "stdout",
     "output_type": "stream",
     "text": [
      "{'timings': '10 to 12', 'Instructor': 'Ayan'}\n",
      "Ayan\n",
      "{'Timings': 'TTS', 'Instructor': 'Dawood'}\n",
      "Dawood\n"
     ]
    }
   ],
   "source": [
    "for course_details in saylani.values():\n",
    "    # instructor_name = course_details[\"Instructor\"]\n",
    "    # print(f\"Instructor for '{instructor_name}' course: {instructor_name}\")\n",
    "    print(course_details)\n",
    "    print(course_details['Instructor']) # Slicing using values "
   ]
  },
  {
   "cell_type": "code",
   "execution_count": 73,
   "metadata": {},
   "outputs": [
    {
     "name": "stdout",
     "output_type": "stream",
     "text": [
      "Ayan\n",
      "Dawood\n"
     ]
    }
   ],
   "source": [
    "for course, details in saylani.items():\n",
    "    # instructor_name = details[\"Instructor\"]\n",
    "    # print(f\"Instructor for '{course}' course: {instructor_name}\")\n",
    "    print(saylani[course]['Instructor']) # Slicing using keys \n",
    "\n"
   ]
  },
  {
   "cell_type": "code",
   "execution_count": 74,
   "metadata": {},
   "outputs": [
    {
     "name": "stdout",
     "output_type": "stream",
     "text": [
      "Ayan\n",
      "Dawood\n"
     ]
    }
   ],
   "source": [
    "for i in range(len(saylani)):\n",
    "    course_name = list(saylani.keys())[i] \n",
    "    print(saylani[course_name][\"Instructor\"]) "
   ]
  },
  {
   "cell_type": "markdown",
   "metadata": {},
   "source": [
    "# Functions "
   ]
  },
  {
   "cell_type": "code",
   "execution_count": 75,
   "metadata": {},
   "outputs": [],
   "source": [
    "# type() any variable use pass will be printed on console "
   ]
  },
  {
   "cell_type": "code",
   "execution_count": 76,
   "metadata": {},
   "outputs": [],
   "source": [
    "# Functions are like a black box which perform certain actions "
   ]
  },
  {
   "cell_type": "code",
   "execution_count": 77,
   "metadata": {},
   "outputs": [],
   "source": [
    "# input --> function (operation) ----> desired result based on operations"
   ]
  },
  {
   "cell_type": "code",
   "execution_count": 81,
   "metadata": {},
   "outputs": [],
   "source": [
    "# Advantages \n",
    "# Code reusability"
   ]
  },
  {
   "cell_type": "code",
   "execution_count": 80,
   "metadata": {},
   "outputs": [
    {
     "data": {
      "text/plain": [
       "'\\nsyntax : \\ndef <func_name()>:\\n    print(\"Hello\")\\n'"
      ]
     },
     "execution_count": 80,
     "metadata": {},
     "output_type": "execute_result"
    }
   ],
   "source": [
    "'''\n",
    "syntax : \n",
    "def <func_name()>:\n",
    "    print(\"Hello\")\n",
    "'''"
   ]
  },
  {
   "cell_type": "code",
   "execution_count": 78,
   "metadata": {},
   "outputs": [],
   "source": [
    "def saylani():\n",
    "    print(\"saylani\")"
   ]
  },
  {
   "cell_type": "code",
   "execution_count": 79,
   "metadata": {},
   "outputs": [
    {
     "name": "stdout",
     "output_type": "stream",
     "text": [
      "saylani\n"
     ]
    }
   ],
   "source": [
    "saylani()"
   ]
  },
  {
   "cell_type": "code",
   "execution_count": 82,
   "metadata": {},
   "outputs": [],
   "source": [
    "# create a func sum "
   ]
  },
  {
   "cell_type": "code",
   "execution_count": 86,
   "metadata": {},
   "outputs": [],
   "source": [
    "# Passing parameters in function\n",
    "def sum(a,b):\n",
    "    return a + b "
   ]
  },
  {
   "cell_type": "code",
   "execution_count": 84,
   "metadata": {},
   "outputs": [],
   "source": [
    "ans = sum(2,4)"
   ]
  },
  {
   "cell_type": "code",
   "execution_count": 85,
   "metadata": {},
   "outputs": [
    {
     "name": "stdout",
     "output_type": "stream",
     "text": [
      "6\n"
     ]
    }
   ],
   "source": [
    "print(ans)"
   ]
  },
  {
   "cell_type": "code",
   "execution_count": 97,
   "metadata": {},
   "outputs": [],
   "source": [
    "def kelvin(temp,kelvin = 273):\n",
    "    \n",
    "    print(temp + kelvin)"
   ]
  },
  {
   "cell_type": "code",
   "execution_count": 99,
   "metadata": {},
   "outputs": [
    {
     "name": "stdout",
     "output_type": "stream",
     "text": [
      "318\n"
     ]
    }
   ],
   "source": [
    "kelvin(45)"
   ]
  },
  {
   "cell_type": "code",
   "execution_count": 100,
   "metadata": {},
   "outputs": [],
   "source": [
    "def kelvin(temp,kelvin = 273):# just swapped parameters\n",
    "    \n",
    "    print(temp + kelvin)"
   ]
  },
  {
   "cell_type": "code",
   "execution_count": 101,
   "metadata": {},
   "outputs": [],
   "source": [
    "def greetings(fname,lname,greetings=\"Welcome\"):\n",
    "    print(f\"{fname} {lname} {greetings}\")"
   ]
  },
  {
   "cell_type": "code",
   "execution_count": 103,
   "metadata": {},
   "outputs": [
    {
     "name": "stdout",
     "output_type": "stream",
     "text": [
      "Mehdi Abbas Welcome\n"
     ]
    }
   ],
   "source": [
    "greetings(fname=\"Mehdi\",lname=\"Abbas\") # key word argument "
   ]
  },
  {
   "cell_type": "code",
   "execution_count": 1,
   "metadata": {},
   "outputs": [
    {
     "name": "stdout",
     "output_type": "stream",
     "text": [
      "{0: {'timings': 'MMF', 'Instructors': 'Mohan', 'Subject': 'Maths'}, 1: {'timings': 'TTH', 'Instructors': 'Ram', 'Subject': 'Computer'}}\n"
     ]
    }
   ],
   "source": [
    "dic = {\n",
    "  0:{\n",
    "    \"timings\":\"MMF\",\n",
    "    \"Instructors\":\"Mohan\",\n",
    "  },\n",
    "  1:{\n",
    "    \"timings\":\"TTH\",\n",
    "    \"Instructors\":\"Ram\",\n",
    "  }\n",
    "}\n",
    "\n",
    "for i in dic : \n",
    "  dic[i]['Subject'] = input(\"Enter your subject\")\n",
    "\n",
    "print(dic)"
   ]
  },
  {
   "cell_type": "code",
   "execution_count": 2,
   "metadata": {},
   "outputs": [
    {
     "name": "stdout",
     "output_type": "stream",
     "text": [
      "0 {'timings': 'MMF', 'Instructors': 'Mohan', 'Subject': 'Maths'}\n",
      "1 {'timings': 'TTH', 'Instructors': 'Ram', 'Subject': 'Computer'}\n"
     ]
    }
   ],
   "source": [
    "for key ,values in dic.items():\n",
    "    print(key,values)"
   ]
  },
  {
   "cell_type": "code",
   "execution_count": null,
   "metadata": {},
   "outputs": [],
   "source": []
  }
 ],
 "metadata": {
  "kernelspec": {
   "display_name": "base",
   "language": "python",
   "name": "python3"
  },
  "language_info": {
   "codemirror_mode": {
    "name": "ipython",
    "version": 3
   },
   "file_extension": ".py",
   "mimetype": "text/x-python",
   "name": "python",
   "nbconvert_exporter": "python",
   "pygments_lexer": "ipython3",
   "version": "3.11.5"
  }
 },
 "nbformat": 4,
 "nbformat_minor": 2
}
