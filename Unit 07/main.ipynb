{
  "cells": [
    {
      "cell_type": "markdown",
      "metadata": {
        "id": "view-in-github",
        "colab_type": "text"
      },
      "source": [
        "<a href=\"https://colab.research.google.com/github/Mehdi-Abbas-Arduino/Extended-SMIT/blob/master/Unit%2007/main.ipynb\" target=\"_parent\"><img src=\"https://colab.research.google.com/assets/colab-badge.svg\" alt=\"Open In Colab\"/></a>"
      ]
    },
    {
      "cell_type": "markdown",
      "source": [
        "# Revision"
      ],
      "metadata": {
        "id": "U5cAxl58qs1n"
      },
      "id": "U5cAxl58qs1n"
    },
    {
      "cell_type": "code",
      "execution_count": 10,
      "id": "0792c77c-1724-41e4-837c-7c1b3df1ec40",
      "metadata": {
        "colab": {
          "base_uri": "https://localhost:8080/"
        },
        "id": "0792c77c-1724-41e4-837c-7c1b3df1ec40",
        "outputId": "e39afb2f-db3b-40c6-8c2c-35a00a3e4069"
      },
      "outputs": [
        {
          "output_type": "stream",
          "name": "stdout",
          "text": [
            "5.0\n"
          ]
        }
      ],
      "source": [
        "def calc_tax(sales_total,tax_rate = .04):\n",
        "  tax = sales_total * tax_rate\n",
        "  print(tax)\n",
        "\n",
        "calc_tax(100, 0.05)"
      ]
    },
    {
      "cell_type": "code",
      "source": [
        "def payment():\n",
        "  n = int(input(\"How many defaulters = \"))\n",
        "  for i in range(1,n+1):\n",
        "    student_name = input(\"Enter name = \")\n",
        "    total = 0\n",
        "    for x in range(1,4):\n",
        "      payment = int(input(\"Enter payment = \"))\n",
        "      total += payment\n",
        "      print(total)"
      ],
      "metadata": {
        "id": "h5VavkOApghI"
      },
      "id": "h5VavkOApghI",
      "execution_count": 7,
      "outputs": []
    },
    {
      "cell_type": "code",
      "source": [
        "payment()"
      ],
      "metadata": {
        "colab": {
          "base_uri": "https://localhost:8080/"
        },
        "id": "S22ozYABrzNU",
        "outputId": "43203aa9-0565-4f98-a951-19b73630bd07"
      },
      "id": "S22ozYABrzNU",
      "execution_count": 8,
      "outputs": [
        {
          "output_type": "stream",
          "name": "stdout",
          "text": [
            "How many defaulters = 2\n",
            "Enter name = Mehdi\n",
            "Enter payment = 200000\n",
            "200000\n",
            "Enter payment = 30000\n",
            "230000\n",
            "Enter payment = 50000\n",
            "280000\n",
            "Enter name = Izhan\n",
            "Enter payment = 20000\n",
            "20000\n",
            "Enter payment = 20000\n",
            "40000\n",
            "Enter payment = 50000\n",
            "90000\n"
          ]
        }
      ]
    },
    {
      "cell_type": "code",
      "source": [
        "# Returning functions"
      ],
      "metadata": {
        "id": "0WM9YvQjr05w"
      },
      "id": "0WM9YvQjr05w",
      "execution_count": 9,
      "outputs": []
    },
    {
      "cell_type": "code",
      "source": [
        "def calc_tax(sales_total,tax_rate = .04):\n",
        "  tax = sales_total * tax_rate\n",
        "  return tax\n",
        "\n",
        "calc = calc_tax(100, 0.05)\n",
        "print(calc)"
      ],
      "metadata": {
        "colab": {
          "base_uri": "https://localhost:8080/"
        },
        "id": "NUpIvC9ttLLD",
        "outputId": "aa46656d-c843-4197-aad7-3d1dc8fb588f"
      },
      "id": "NUpIvC9ttLLD",
      "execution_count": 11,
      "outputs": [
        {
          "output_type": "stream",
          "name": "stdout",
          "text": [
            "5.0\n"
          ]
        }
      ]
    },
    {
      "cell_type": "markdown",
      "source": [
        "# Function as Variables\n"
      ],
      "metadata": {
        "id": "2yuMTacHtmpr"
      },
      "id": "2yuMTacHtmpr"
    },
    {
      "cell_type": "code",
      "source": [
        "def calc_tax(sales_total,tax_rate = .04):\n",
        "  tax = sales_total * tax_rate\n",
        "  print(tax)\n",
        "calc_tax(1000, 0.11) # It is printing not returning"
      ],
      "metadata": {
        "colab": {
          "base_uri": "https://localhost:8080/"
        },
        "id": "uOAtdjmetb4Z",
        "outputId": "d113a264-9f31-412c-dcf6-1091a696fd03"
      },
      "id": "uOAtdjmetb4Z",
      "execution_count": 17,
      "outputs": [
        {
          "output_type": "stream",
          "name": "stdout",
          "text": [
            "110.0\n"
          ]
        }
      ]
    },
    {
      "cell_type": "code",
      "source": [
        "# When using print() no value in tax"
      ],
      "metadata": {
        "id": "IBzILJZztx5Y"
      },
      "id": "IBzILJZztx5Y",
      "execution_count": 15,
      "outputs": []
    },
    {
      "cell_type": "code",
      "source": [
        "def calc_tax(sales_total,tax_rate = .04):\n",
        "  tax = sales_total * tax_rate\n",
        "  # print(tax)\n",
        "\n",
        "print(calc_tax(100, 0.05))"
      ],
      "metadata": {
        "colab": {
          "base_uri": "https://localhost:8080/"
        },
        "id": "UJDG4ujEuTOi",
        "outputId": "6b060b46-ddcc-4feb-d90f-1a9ff7447f87"
      },
      "id": "UJDG4ujEuTOi",
      "execution_count": 18,
      "outputs": [
        {
          "output_type": "stream",
          "name": "stdout",
          "text": [
            "None\n"
          ]
        }
      ]
    },
    {
      "cell_type": "code",
      "source": [
        "import time\n",
        "start = time.time()\n",
        "end = time.time()\n",
        "print(end - start)"
      ],
      "metadata": {
        "colab": {
          "base_uri": "https://localhost:8080/"
        },
        "id": "4TwZWXhgut54",
        "outputId": "2ce94ae8-30dc-4738-836b-43cd4bdd9556"
      },
      "id": "4TwZWXhgut54",
      "execution_count": 20,
      "outputs": [
        {
          "output_type": "stream",
          "name": "stdout",
          "text": [
            "4.291534423828125e-05\n"
          ]
        }
      ]
    },
    {
      "cell_type": "code",
      "source": [
        "def calc_tax(sales_total,tax_rate = .04):\n",
        "  tax = sales_total * tax_rate\n",
        "  return tax\n",
        "\n",
        "tax = calc_tax(100, 0.05)"
      ],
      "metadata": {
        "id": "-ZLgQWT5u0lx"
      },
      "id": "-ZLgQWT5u0lx",
      "execution_count": 22,
      "outputs": []
    },
    {
      "cell_type": "code",
      "source": [
        "tax"
      ],
      "metadata": {
        "colab": {
          "base_uri": "https://localhost:8080/"
        },
        "id": "WfRrVbuHvYsk",
        "outputId": "cbb6f505-6175-4f0c-8540-22ee974afb73"
      },
      "id": "WfRrVbuHvYsk",
      "execution_count": 23,
      "outputs": [
        {
          "output_type": "execute_result",
          "data": {
            "text/plain": [
              "5.0"
            ]
          },
          "metadata": {},
          "execution_count": 23
        }
      ]
    },
    {
      "cell_type": "code",
      "source": [
        "customers = {\n",
        "    0: {'first name': 'David',\n",
        "        'last name': 'Elliott',\n",
        "        'address': '4803 Wellesley St.',\n",
        "        'city': 'LA'},\n",
        "    1: {'first name': 'Qasim',\n",
        "        'last name': 'Hassan',\n",
        "        'address': 'Near SMIT',\n",
        "        'city': 'Karachi'},\n",
        "    2: {'first name': 'Hassan',\n",
        "        'last name': 'Khan',\n",
        "        'address': 'Johar town',\n",
        "        'city': 'Lahore'}\n",
        "}\n"
      ],
      "metadata": {
        "id": "P9avBOdzvbr7"
      },
      "id": "P9avBOdzvbr7",
      "execution_count": 25,
      "outputs": []
    },
    {
      "cell_type": "code",
      "source": [
        "def check (dic):\n",
        "  id = int(input(\"Which id you want to access = \"))\n",
        "  element = input(\"Which element to access = \")\n",
        "  return dic[id][element]"
      ],
      "metadata": {
        "id": "2xc__2_iwk8X"
      },
      "id": "2xc__2_iwk8X",
      "execution_count": 32,
      "outputs": []
    },
    {
      "cell_type": "code",
      "source": [
        "x = check(customers)"
      ],
      "metadata": {
        "colab": {
          "base_uri": "https://localhost:8080/"
        },
        "id": "L6ab-McPxW2a",
        "outputId": "3abab917-d5ca-4867-f681-9c0bb5cd3a14"
      },
      "id": "L6ab-McPxW2a",
      "execution_count": 33,
      "outputs": [
        {
          "name": "stdout",
          "output_type": "stream",
          "text": [
            "Which id you want to access = 0\n",
            "Which element to access = address\n"
          ]
        }
      ]
    },
    {
      "cell_type": "code",
      "source": [
        "x"
      ],
      "metadata": {
        "colab": {
          "base_uri": "https://localhost:8080/",
          "height": 35
        },
        "id": "nXpQF3L-xYZg",
        "outputId": "27fef5d2-d644-45e9-922d-b1a3954c6797"
      },
      "id": "nXpQF3L-xYZg",
      "execution_count": 34,
      "outputs": [
        {
          "output_type": "execute_result",
          "data": {
            "text/plain": [
              "'4803 Wellesley St.'"
            ],
            "application/vnd.google.colaboratory.intrinsic+json": {
              "type": "string"
            }
          },
          "metadata": {},
          "execution_count": 34
        }
      ]
    },
    {
      "cell_type": "code",
      "source": [
        "def customer_details(dic,customer,details):\n",
        "  return dic[customer][details]"
      ],
      "metadata": {
        "id": "qQ37dMccx5Q7"
      },
      "id": "qQ37dMccx5Q7",
      "execution_count": 35,
      "outputs": []
    },
    {
      "cell_type": "code",
      "source": [
        "x = customer_details(customers,0,'address')"
      ],
      "metadata": {
        "id": "K07IfLr9yCtZ"
      },
      "id": "K07IfLr9yCtZ",
      "execution_count": 37,
      "outputs": []
    },
    {
      "cell_type": "code",
      "source": [
        "x"
      ],
      "metadata": {
        "colab": {
          "base_uri": "https://localhost:8080/",
          "height": 35
        },
        "id": "lWzmFHEYyKW7",
        "outputId": "04b13b6b-a5ae-46fb-ca74-d6a90ec99654"
      },
      "id": "lWzmFHEYyKW7",
      "execution_count": 38,
      "outputs": [
        {
          "output_type": "execute_result",
          "data": {
            "text/plain": [
              "'4803 Wellesley St.'"
            ],
            "application/vnd.google.colaboratory.intrinsic+json": {
              "type": "string"
            }
          },
          "metadata": {},
          "execution_count": 38
        }
      ]
    },
    {
      "cell_type": "code",
      "source": [
        "# Dealing with unknown arguments"
      ],
      "metadata": {
        "id": "7ojKE_XyyMv1"
      },
      "id": "7ojKE_XyyMv1",
      "execution_count": 39,
      "outputs": []
    },
    {
      "cell_type": "code",
      "source": [
        "def winner(winner_name,winner_score,**kwargs):\n",
        "  print(f\"{winner_name} is the champion with the score {winner_score}\")\n",
        "  for kwarg,value in kwargs.items():\n",
        "    print(kwarg,value)"
      ],
      "metadata": {
        "id": "ggrt8-1czNWQ"
      },
      "id": "ggrt8-1czNWQ",
      "execution_count": 57,
      "outputs": []
    },
    {
      "cell_type": "code",
      "source": [
        "winner(\"Mehdi\",40000,injuries = True,overtime=False)"
      ],
      "metadata": {
        "colab": {
          "base_uri": "https://localhost:8080/"
        },
        "id": "wF8dKGwczo3m",
        "outputId": "23bc6a0b-448a-4fd4-844e-cd48735d8323"
      },
      "id": "wF8dKGwczo3m",
      "execution_count": 58,
      "outputs": [
        {
          "output_type": "stream",
          "name": "stdout",
          "text": [
            "Mehdi is the champion with the score 40000\n",
            "injuries True\n",
            "overtime False\n"
          ]
        }
      ]
    },
    {
      "cell_type": "code",
      "source": [
        "# Kwargs give dictionary\n",
        "# args give tuple"
      ],
      "metadata": {
        "id": "8qjuxe9VzsBj"
      },
      "id": "8qjuxe9VzsBj",
      "execution_count": 51,
      "outputs": []
    },
    {
      "cell_type": "code",
      "source": [
        "def winner(winner_name,winner_score,*args):\n",
        "  print(f\"{winner_name} is the champion with the score {winner_score}\")\n",
        "  for a in args:\n",
        "    print(a)\n",
        "  print(args)"
      ],
      "metadata": {
        "id": "gUNq00Tn1AzG"
      },
      "id": "gUNq00Tn1AzG",
      "execution_count": 63,
      "outputs": []
    },
    {
      "cell_type": "code",
      "source": [
        "winner(\"Mehdi\",6000,True,False,12,34,78)"
      ],
      "metadata": {
        "colab": {
          "base_uri": "https://localhost:8080/"
        },
        "id": "UbG4N5rQ15eh",
        "outputId": "6c635fe8-6ebd-4f6f-a5f7-75daa9964ab5"
      },
      "id": "UbG4N5rQ15eh",
      "execution_count": 64,
      "outputs": [
        {
          "output_type": "stream",
          "name": "stdout",
          "text": [
            "Mehdi is the champion with the score 6000\n",
            "True\n",
            "False\n",
            "12\n",
            "34\n",
            "78\n",
            "(True, False, 12, 34, 78)\n"
          ]
        }
      ]
    },
    {
      "cell_type": "markdown",
      "source": [
        "# Local & global variables\n",
        "- global : acces with in functions too\n",
        "- local : should have limited scope i.e , with i functions , it could only be acces using return\n",
        "\n"
      ],
      "metadata": {
        "id": "_Wk5ztSM3S9T"
      },
      "id": "_Wk5ztSM3S9T"
    },
    {
      "cell_type": "code",
      "source": [
        "x = 'Hello'\n",
        "def hello():\n",
        "  x = 'Mehdi'\n",
        "  print(x)\n",
        ""
      ],
      "metadata": {
        "id": "wUBDHu-i2AKm"
      },
      "id": "wUBDHu-i2AKm",
      "execution_count": 65,
      "outputs": []
    },
    {
      "cell_type": "code",
      "source": [
        "print(x)\n",
        "hello()\n",
        "print(x)"
      ],
      "metadata": {
        "colab": {
          "base_uri": "https://localhost:8080/"
        },
        "id": "Rr72ZtnS3gtw",
        "outputId": "12dfef55-4fb9-4c37-b38d-fd97ffb3fda9"
      },
      "id": "Rr72ZtnS3gtw",
      "execution_count": 68,
      "outputs": [
        {
          "output_type": "stream",
          "name": "stdout",
          "text": [
            "Hello\n",
            "Mehdi\n",
            "Hello\n"
          ]
        }
      ]
    },
    {
      "cell_type": "code",
      "source": [
        "x = 'Hello'\n",
        "def hello():\n",
        "  global x\n",
        "  x = \"Mehdi\"\n",
        "  print(x)\n",
        ""
      ],
      "metadata": {
        "id": "aYpuP0QK3i6i"
      },
      "id": "aYpuP0QK3i6i",
      "execution_count": 72,
      "outputs": []
    },
    {
      "cell_type": "code",
      "source": [
        "print(x)\n",
        "hello()\n",
        "print(x)"
      ],
      "metadata": {
        "colab": {
          "base_uri": "https://localhost:8080/"
        },
        "id": "q-ZuQvyF3vba",
        "outputId": "09638a6d-d024-404a-ddf7-492278b897e0"
      },
      "id": "q-ZuQvyF3vba",
      "execution_count": 73,
      "outputs": [
        {
          "output_type": "stream",
          "name": "stdout",
          "text": [
            "Hello\n",
            "Mehdi\n",
            "Mehdi\n"
          ]
        }
      ]
    },
    {
      "cell_type": "code",
      "source": [
        "global taxes\n",
        "taxes = 0.02\n",
        "def add():\n",
        "  global a\n",
        "  a = 5\n",
        "  global b\n",
        "  b = 10\n",
        "  total = a + b\n",
        "  tax = total * taxes\n",
        "  return total , tax"
      ],
      "metadata": {
        "id": "DYrdc2Tv38lS"
      },
      "id": "DYrdc2Tv38lS",
      "execution_count": 82,
      "outputs": []
    },
    {
      "cell_type": "code",
      "source": [
        "x = add()\n",
        "x"
      ],
      "metadata": {
        "colab": {
          "base_uri": "https://localhost:8080/"
        },
        "id": "bbDZFtJB55Sr",
        "outputId": "b6b40f71-4bec-4f81-eb1f-1d864d0d3c1b"
      },
      "id": "bbDZFtJB55Sr",
      "execution_count": 84,
      "outputs": [
        {
          "output_type": "execute_result",
          "data": {
            "text/plain": [
              "(15, 0.3)"
            ]
          },
          "metadata": {},
          "execution_count": 84
        }
      ]
    },
    {
      "cell_type": "code",
      "source": [
        "global s\n",
        "def function():\n",
        "  s = \"I Love SMIT\"\n",
        "  return s\n",
        "\n",
        "function()\n"
      ],
      "metadata": {
        "colab": {
          "base_uri": "https://localhost:8080/",
          "height": 35
        },
        "id": "CxG5wTda6AqB",
        "outputId": "f47892de-c3d5-4b9a-a5ca-aff8e48dbd57"
      },
      "id": "CxG5wTda6AqB",
      "execution_count": 87,
      "outputs": [
        {
          "output_type": "execute_result",
          "data": {
            "text/plain": [
              "'I Love SMIT'"
            ],
            "application/vnd.google.colaboratory.intrinsic+json": {
              "type": "string"
            }
          },
          "metadata": {},
          "execution_count": 87
        }
      ]
    },
    {
      "cell_type": "markdown",
      "source": [
        "# Function within function"
      ],
      "metadata": {
        "id": "uwGbviA-8ohO"
      },
      "id": "uwGbviA-8ohO"
    },
    {
      "cell_type": "code",
      "source": [
        "def func_total_sales(gulshan,dha,stadium):\n",
        "  total = gulshan + dha + stadium\n",
        "  def func_sales_after_tax(total_sales):\n",
        "    return total_sales * 0.05\n",
        "  return func_sales_after_tax(total)\n",
        "func_total_sales(23,84,90)"
      ],
      "metadata": {
        "colab": {
          "base_uri": "https://localhost:8080/"
        },
        "id": "51J1Aj5787P_",
        "outputId": "5477da23-e124-476b-ae35-eaafc99b256b"
      },
      "id": "51J1Aj5787P_",
      "execution_count": 96,
      "outputs": [
        {
          "output_type": "execute_result",
          "data": {
            "text/plain": [
              "9.850000000000001"
            ]
          },
          "metadata": {},
          "execution_count": 96
        }
      ]
    },
    {
      "cell_type": "markdown",
      "source": [
        "# While loops\n",
        " - It's value is TRUE\n",
        " - when condition meets then make to False"
      ],
      "metadata": {
        "id": "hvDwlQ1xFNnj"
      },
      "id": "hvDwlQ1xFNnj"
    },
    {
      "cell_type": "code",
      "source": [
        "clean_country = ['Pakistan','Bangladesh','Kenya','India']\n"
      ],
      "metadata": {
        "id": "0E9NthdyEWvb"
      },
      "id": "0E9NthdyEWvb",
      "execution_count": 1,
      "outputs": []
    },
    {
      "cell_type": "code",
      "source": [
        "user_input = input()\n",
        "for country in clean_country:\n",
        "  if user_input == country:\n",
        "    print(f\"{country} is clean \")"
      ],
      "metadata": {
        "colab": {
          "base_uri": "https://localhost:8080/"
        },
        "id": "Fmt470v-FuRA",
        "outputId": "4a45df03-d9bd-4e3e-f8e8-aa9904d8aefd"
      },
      "id": "Fmt470v-FuRA",
      "execution_count": 3,
      "outputs": [
        {
          "output_type": "stream",
          "name": "stdout",
          "text": [
            "Pakistan\n",
            "Pakistan is clean \n"
          ]
        }
      ]
    },
    {
      "cell_type": "code",
      "source": [
        "user_input = \"\"\n",
        "cities = []\n",
        "while user_input != \"q\":\n",
        "  user_input = input(\"Enter a city or q to quit = \")\n",
        "  if user_input != 'q' :\n",
        "    cities.append(user_input)\n",
        "print(cities)"
      ],
      "metadata": {
        "colab": {
          "base_uri": "https://localhost:8080/"
        },
        "id": "oy5FrwUJHLzb",
        "outputId": "c0206b23-e696-4663-85ba-5909566d7eca"
      },
      "id": "oy5FrwUJHLzb",
      "execution_count": 7,
      "outputs": [
        {
          "output_type": "stream",
          "name": "stdout",
          "text": [
            "Enter a city or q to quit = Karachi\n",
            "Enter a city or q to quit = Lahore \n",
            "Enter a city or q to quit = Islamabad\n",
            "Enter a city or q to quit = Quetta\n",
            "Enter a city or q to quit = q\n",
            "['Karachi', 'Lahore ', 'Islamabad', 'Quetta']\n"
          ]
        }
      ]
    },
    {
      "cell_type": "code",
      "source": [
        "try:\n",
        "  user_input = \"\"\n",
        "  while user_input != \"q\":\n",
        "    user_input = input(\"Enter a city or q to quit = \")\n",
        "    if user_input != 'q' :\n",
        "      for a in clean_country:\n",
        "        if user_input == a :\n",
        "          print(\"It is one of the cleanest cities\")\n",
        "          break\n",
        "except:\n",
        "    print(\"Error\")"
      ],
      "metadata": {
        "colab": {
          "base_uri": "https://localhost:8080/"
        },
        "id": "z4j3PKmRIMRg",
        "outputId": "5dd25b08-5396-42cf-a32f-c1f0ffbf6cfa"
      },
      "id": "z4j3PKmRIMRg",
      "execution_count": 9,
      "outputs": [
        {
          "name": "stdout",
          "output_type": "stream",
          "text": [
            "Enter a city or q to quit = q\n"
          ]
        }
      ]
    },
    {
      "cell_type": "code",
      "source": [
        "while_cond = True\n",
        "while while_cond:\n",
        "  user_input = input(\"Enter the country we want to check = \")\n",
        "  if user_input in clean_country:\n",
        "    print(f\"{user_input} is in the clean enviroment\")\n",
        "    while_cond = False"
      ],
      "metadata": {
        "colab": {
          "base_uri": "https://localhost:8080/"
        },
        "id": "thiKYV09JtQf",
        "outputId": "4efe5b5a-56ff-4d65-a31a-54807b17305b"
      },
      "id": "thiKYV09JtQf",
      "execution_count": 11,
      "outputs": [
        {
          "output_type": "stream",
          "name": "stdout",
          "text": [
            "Enter the country we want to check = Pakistan\n",
            "Pakistan is in the clean enviroment\n"
          ]
        }
      ]
    },
    {
      "cell_type": "code",
      "source": [],
      "metadata": {
        "id": "AWKYI9uEKqJH"
      },
      "id": "AWKYI9uEKqJH",
      "execution_count": null,
      "outputs": []
    }
  ],
  "metadata": {
    "kernelspec": {
      "display_name": "Python 3 (ipykernel)",
      "language": "python",
      "name": "python3"
    },
    "language_info": {
      "codemirror_mode": {
        "name": "ipython",
        "version": 3
      },
      "file_extension": ".py",
      "mimetype": "text/x-python",
      "name": "python",
      "nbconvert_exporter": "python",
      "pygments_lexer": "ipython3",
      "version": "3.11.7"
    },
    "colab": {
      "provenance": [],
      "include_colab_link": true
    }
  },
  "nbformat": 4,
  "nbformat_minor": 5
}